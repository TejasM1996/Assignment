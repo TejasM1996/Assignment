{
 "cells": [
  {
   "cell_type": "code",
   "execution_count": 1,
   "id": "2035c9e3",
   "metadata": {},
   "outputs": [
    {
     "name": "stdout",
     "output_type": "stream",
     "text": [
      "Input: [1, None, 3, 2, 4, None, 5, 6]\n",
      "Traversal Output: [5, 6, 3, 2, 4, 1]\n",
      "Input: [1, None, 2, 3, 4, 5, None, None, 6, 7, None, 8, None, 9, 10, None, None, 11, None, 12, None, 13, None, None, 14]\n",
      "Traversal Output: [2, 6, 14, 11, 7, 3, 12, 8, 4, 13, 9, 10, 5, 1]\n"
     ]
    }
   ],
   "source": [
    "from typing import List, Optional\n",
    "\n",
    "class Node:\n",
    "    def __init__(self, val: int, children: List['Node'] = None):\n",
    "        self.val = val\n",
    "        self.children = children if children is not None else []\n",
    "\n",
    "    def __repr__(self):\n",
    "        return f\"Node({self.val})\"\n",
    "\n",
    "def createTree(input: List[Optional[int]]) -> Node:\n",
    "    if not input:\n",
    "        return None\n",
    "    \n",
    "    root = Node(input[0])\n",
    "    queue = [root]\n",
    "    i = 2\n",
    "    \n",
    "    while i < len(input):\n",
    "        current = queue.pop(0)\n",
    "        \n",
    "        while i < len(input) and input[i] is not None:\n",
    "            new_node = Node(input[i])\n",
    "            current.children.append(new_node)\n",
    "            queue.append(new_node)\n",
    "            i += 1\n",
    "        i += 1 \n",
    "    \n",
    "    return root\n",
    "\n",
    "def traverseTree(root: Node) -> List[int]:\n",
    "    if root is None:\n",
    "        return []\n",
    "    \n",
    "    result = []\n",
    "    \n",
    "    def postorder(node: Node):\n",
    "        for child in node.children:\n",
    "            postorder(child)\n",
    "        result.append(node.val)\n",
    "        \n",
    "    postorder(root)\n",
    "    return result\n",
    "\n",
    "# Input that i added to get our desire output for example I & II\n",
    "inputs = [\n",
    "    [1, None, 3, 2, 4, None, 5, 6],\n",
    "    [1, None, 2, 3, 4, 5, None, None, 6, 7, None, 8, None, 9, 10, None, None, 11, None, 12, None, 13, None, None, 14]\n",
    "]\n",
    "\n",
    "for input_list in inputs:\n",
    "    root = createTree(input_list)\n",
    "    traversal_result = traverseTree(root)\n",
    "    print(f\"Input: {input_list}\\nTraversal Output: {traversal_result}\")\n"
   ]
  },
  {
   "cell_type": "code",
   "execution_count": null,
   "id": "5a961ba8",
   "metadata": {},
   "outputs": [],
   "source": []
  }
 ],
 "metadata": {
  "kernelspec": {
   "display_name": "Python 3 (ipykernel)",
   "language": "python",
   "name": "python3"
  },
  "language_info": {
   "codemirror_mode": {
    "name": "ipython",
    "version": 3
   },
   "file_extension": ".py",
   "mimetype": "text/x-python",
   "name": "python",
   "nbconvert_exporter": "python",
   "pygments_lexer": "ipython3",
   "version": "3.10.9"
  }
 },
 "nbformat": 4,
 "nbformat_minor": 5
}
